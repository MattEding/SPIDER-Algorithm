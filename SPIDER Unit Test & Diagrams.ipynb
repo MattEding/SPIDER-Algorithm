{
 "cells": [
  {
   "cell_type": "code",
   "execution_count": 1,
   "metadata": {},
   "outputs": [],
   "source": [
    "import numpy as np\n",
    "\n",
    "from imblearn.combine import SPIDER"
   ]
  },
  {
   "cell_type": "markdown",
   "metadata": {},
   "source": [
    "## Dataset\n",
    "- Majority Class: Circles\n",
    "- Minority Class: Diamonds\n",
    "- Safe: Blue\n",
    "- Noisy: Orange\n",
    "\n",
    "__NOTE:__ With subsequent diagrams, the lower left is omitted visually to make the diagrams easier to digest."
   ]
  },
  {
   "attachments": {},
   "cell_type": "markdown",
   "metadata": {},
   "source": [
    "![SPIDER-Safe-Noise-coordinates.png](SPIDER-Safe-Noise-coordinates.png)"
   ]
  },
  {
   "cell_type": "code",
   "execution_count": 2,
   "metadata": {},
   "outputs": [],
   "source": [
    "Xy = np.array([\n",
    "    [-11.83, -6.81, 0],\n",
    "    [-11.72, -2.34, 0],\n",
    "    [-11.43, -5.85, 0],\n",
    "    [-10.66, -4.33, 0],\n",
    "    [ -9.64, -7.05, 0],\n",
    "    [ -8.39, -4.41, 0],\n",
    "    [ -8.07, -5.66, 0],\n",
    "    [ -7.28,  0.91, 0],\n",
    "    [ -7.24, -2.41, 0],\n",
    "    [ -6.13, -4.81, 0],\n",
    "    [ -5.92, -6.81, 0],\n",
    "    [ -4.  , -1.81, 0],\n",
    "    [ -3.96,  2.67, 1], # noisy\n",
    "    [ -3.74, -7.31, 0],\n",
    "    [ -2.96,  4.69, 0],\n",
    "    [ -1.56, -2.33, 0],\n",
    "    [ -1.02, -4.57, 0],\n",
    "    [  0.46,  4.07, 0],\n",
    "    [  1.2 , -1.53, 1],\n",
    "    [  1.32,  0.41, 1],\n",
    "    [  1.56, -5.19, 0],\n",
    "    [  2.52,  5.89, 0], # noisy\n",
    "    [  3.03, -4.15, 1], # noisy\n",
    "    [  4.  , -0.59, 1],\n",
    "    [  4.4 ,  2.07, 1],\n",
    "    [  4.41, -7.45, 1],\n",
    "    [  4.45, -4.12, 0], # noisy\n",
    "    [  5.13, -6.28, 1],\n",
    "    [  5.4 , -5   , 1],\n",
    "    [  6.26,  4.65, 1],\n",
    "    [  7.02, -6.22, 1],\n",
    "    [  7.5 , -0.11, 0], # noisy\n",
    "    [  8.1 , -2.05, 0],\n",
    "    [  8.42,  2.47, 1], # noisy\n",
    "    [  9.62,  3.87, 0], # noisy\n",
    "    [ 10.54, -4.47, 0],\n",
    "    [ 11.42,  0.01, 0],\n",
    "])\n",
    "\n",
    "X, y = np.split(Xy, [2], axis=1)\n",
    "\n",
    "def check_results(kind, Xy_expected):\n",
    "    X_expected, y_expected = np.split(Xy_expected, [2], axis=1)\n",
    "    idx_expected = np.lexsort(X_expected.T)\n",
    "    \n",
    "    spider = SPIDER(kind=kind)\n",
    "    X_resampled, y_resampled = spider.fit_resample(X, y.ravel())\n",
    "    idx_resampled = np.lexsort(X_resampled.T)\n",
    "    \n",
    "    assert np.allclose(X_resampled[idx_resampled], X_expected[idx_expected])\n",
    "    assert np.allclose(y_resampled[idx_resampled], y_expected.ravel()[idx_expected])"
   ]
  },
  {
   "cell_type": "markdown",
   "metadata": {},
   "source": [
    "## Weak\n",
    "- Noisy Minority Class neighborhoods with k = 3\n",
    "- X denotes Noisy Majority Class to be removed from dataset\n",
    "- The number of solid lines indicate the amplification amount for the Noisy Minority Class in the center of the neighborhood. *(Based on Safe Majority Class counts)*"
   ]
  },
  {
   "attachments": {},
   "cell_type": "markdown",
   "metadata": {},
   "source": [
    "![SPIDER-Weak.png](SPIDER-Weak.png)"
   ]
  },
  {
   "cell_type": "code",
   "execution_count": 3,
   "metadata": {},
   "outputs": [],
   "source": [
    "amp1 = np.vstack([[ -3.96,  2.67, 1]] * 3)\n",
    "amp2 = np.vstack([[  3.03, -4.15, 1]] * 1)\n",
    "# amp3 = np.vstack([[  8.42,  2.47, 1]] * 0)\n",
    "amplify = np.vstack([amp1, amp2])\n",
    "\n",
    "remove = np.array([\n",
    "    [  2.52,  5.89, 0],\n",
    "    [  4.45, -4.12, 0],\n",
    "    [  7.5 , -0.11, 0],\n",
    "    [  9.62,  3.87, 0]\n",
    "])\n",
    "mask = np.isin(Xy, remove).all(axis=1)\n",
    "\n",
    "Xy_expected_weak = np.vstack([Xy[~mask], amplify])\n",
    "check_results('weak', Xy_expected_weak)"
   ]
  },
  {
   "cell_type": "markdown",
   "metadata": {},
   "source": [
    "## Relabel\n",
    "- Noisy Minority Class neighborhoods with k = 3\n",
    "- X denotes Noisy Majority Class to be removed from dataset\n",
    "- \\+ denotes Noisy Majority Class to be relabeled as Minority Class.\n",
    "- The number of solid lines indicate the amplification amount for the Noisy Minority Class in the center of the neighborhood. *(Based on Safe Majority Class counts)*"
   ]
  },
  {
   "attachments": {},
   "cell_type": "markdown",
   "metadata": {},
   "source": [
    "![SPIDER-Relabel.png](SPIDER-Relabel.png)"
   ]
  },
  {
   "cell_type": "code",
   "execution_count": 4,
   "metadata": {},
   "outputs": [],
   "source": [
    "amp1 = np.vstack([[ -3.96,  2.67, 1]] * 3)\n",
    "amp2 = np.vstack([[  3.03, -4.15, 1]] * 1)\n",
    "# amp3 = np.vstack([[  8.42,  2.47, 1]] * 0)\n",
    "amplify = np.vstack([amp1, amp2])\n",
    "\n",
    "relabel = np.array([\n",
    "    [  4.45, -4.12, 1],\n",
    "    [  7.5 , -0.11, 1],\n",
    "    [  9.62,  3.87, 1]\n",
    "])\n",
    "\n",
    "remove = np.array([\n",
    "    [  2.52,  5.89, 0],\n",
    "    [  4.45, -4.12, 0],\n",
    "    [  7.5 , -0.11, 0],\n",
    "    [  9.62,  3.87, 0]\n",
    "])\n",
    "mask = np.isin(Xy, remove).all(axis=1)\n",
    "\n",
    "Xy_expected_relabel = np.vstack([Xy[~mask], amplify, relabel])"
   ]
  },
  {
   "cell_type": "code",
   "execution_count": 5,
   "metadata": {},
   "outputs": [],
   "source": [
    "check_results('relabel', Xy_expected_relabel)"
   ]
  },
  {
   "cell_type": "markdown",
   "metadata": {},
   "source": [
    "## Strong\n",
    "### Phase 1\n",
    "- Safe Minority Class neihborhoods with k = 3\n",
    "- X denotes Noisy Majority Class to be removed from dataset\n",
    "- Only one neighborhood in this example will be amplified since it is the only one that has a Safe Majority Class neighbor. This is indicated in the circle with lines.\n",
    "- The number of solid lines indicate the amplification amount for the Noisy Minority Class in the center of the neighborhood."
   ]
  },
  {
   "attachments": {},
   "cell_type": "markdown",
   "metadata": {},
   "source": [
    "![SPIDER-Strong-minority-safe.png](SPIDER-Strong-minority-safe.png)"
   ]
  },
  {
   "cell_type": "markdown",
   "metadata": {},
   "source": [
    "### Phase 2\n",
    "- With neighborhoods with k = 5, check if the Noisy Minority Class samples are correctly classified by KNN\n",
    "    - If Yes: Amplify with neighborhood with k = 3\n",
    "    - Else No: Amplify with neighborhood with k = 5\n",
    "- X denotes Noisy Majority Class to be removed from dataset (same as in phase 1)\n",
    "- The number of solid lines indicate the amplification amount for the Noisy Minority Class in the center of the neighborhood."
   ]
  },
  {
   "cell_type": "code",
   "execution_count": 6,
   "metadata": {},
   "outputs": [],
   "source": [
    "amp_safe_1 = np.vstack([[  1.2 , -1.53, 1]] * 1)"
   ]
  },
  {
   "attachments": {},
   "cell_type": "markdown",
   "metadata": {},
   "source": [
    "![SPIDER-Strong-minority-noise.png](SPIDER-Strong-minority-noise.png)"
   ]
  },
  {
   "cell_type": "code",
   "execution_count": 7,
   "metadata": {},
   "outputs": [],
   "source": [
    "amp_noise_1 = np.vstack([[ -3.96,  2.67, 1]] * 5)\n",
    "amp_noise_2 = np.vstack([[  3.03, -4.15, 1]] * 1)\n",
    "amp_noise_3 = np.vstack([[  8.42,  2.47, 1]] * 1)\n",
    "amplify = np.vstack([amp_safe_1, amp_noise_1, amp_noise_2, amp_noise_3])\n",
    "\n",
    "remove = np.array([\n",
    "    [  2.52,  5.89, 0],\n",
    "    [  4.45, -4.12, 0],\n",
    "    [  7.5 , -0.11, 0],\n",
    "    [  9.62,  3.87, 0]\n",
    "])\n",
    "mask = np.isin(Xy, remove).all(axis=1)\n",
    "\n",
    "Xy_expected_strong = np.vstack([Xy[~mask], amplify])\n",
    "check_results('strong', Xy_expected_strong)"
   ]
  },
  {
   "cell_type": "code",
   "execution_count": null,
   "metadata": {},
   "outputs": [],
   "source": []
  }
 ],
 "metadata": {
  "kernelspec": {
   "display_name": "Python 3",
   "language": "python",
   "name": "python3"
  },
  "language_info": {
   "codemirror_mode": {
    "name": "ipython",
    "version": 3
   },
   "file_extension": ".py",
   "mimetype": "text/x-python",
   "name": "python",
   "nbconvert_exporter": "python",
   "pygments_lexer": "ipython3",
   "version": "3.7.3"
  }
 },
 "nbformat": 4,
 "nbformat_minor": 2
}
